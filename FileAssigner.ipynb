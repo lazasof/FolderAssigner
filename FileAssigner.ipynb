{
 "cells": [
  {
   "cell_type": "code",
   "execution_count": 3,
   "id": "894ad741",
   "metadata": {},
   "outputs": [
    {
     "name": "stdout",
     "output_type": "stream",
     "text": [
      "gimme the path:E:\\Desktop\\ΛΑΖΑΡΟΣ ΣΟΦΙΚΙΤΗΣ\n",
      "File organization completed successfully!\n"
     ]
    }
   ],
   "source": [
    "#E:\\Desktop\\ΛΑΖΑΡΟΣ ΣΟΦΙΚΙΤΗΣ\n",
    "import os\n",
    "import shutil\n",
    "\n",
    "def organize_files(folder_path):\n",
    "    # Create a dictionary to store file extensions and their corresponding folders\n",
    "    extensions = {}\n",
    "\n",
    "    # Iterate through all files in the folder\n",
    "    for filename in os.listdir(folder_path):\n",
    "        # Ignore directories\n",
    "        if os.path.isdir(os.path.join(folder_path, filename)):\n",
    "            continue\n",
    "\n",
    "        # Get the file extension\n",
    "        _, file_ext = os.path.splitext(filename)\n",
    "\n",
    "        # Create a new folder if it doesn't exist for the file extension\n",
    "        if file_ext not in extensions:\n",
    "            extensions[file_ext] = os.path.join(folder_path, file_ext[1:])\n",
    "\n",
    "            if not os.path.exists(extensions[file_ext]):\n",
    "                os.makedirs(extensions[file_ext])\n",
    "\n",
    "        # Move the file to the corresponding folder\n",
    "        file_src = os.path.join(folder_path, filename)\n",
    "        file_dest = os.path.join(extensions[file_ext], filename)\n",
    "        shutil.move(file_src, file_dest)\n",
    "\n",
    "    print(\"File organization completed successfully!\")\n",
    "\n",
    "# Usage\n",
    "folder_path = input(\"gimme the path:\")\n",
    "organize_files(folder_path)\n"
   ]
  },
  {
   "cell_type": "code",
   "execution_count": null,
   "id": "420671c3",
   "metadata": {},
   "outputs": [],
   "source": []
  }
 ],
 "metadata": {
  "kernelspec": {
   "display_name": "Python 3 (ipykernel)",
   "language": "python",
   "name": "python3"
  },
  "language_info": {
   "codemirror_mode": {
    "name": "ipython",
    "version": 3
   },
   "file_extension": ".py",
   "mimetype": "text/x-python",
   "name": "python",
   "nbconvert_exporter": "python",
   "pygments_lexer": "ipython3",
   "version": "3.8.0"
  }
 },
 "nbformat": 4,
 "nbformat_minor": 5
}
